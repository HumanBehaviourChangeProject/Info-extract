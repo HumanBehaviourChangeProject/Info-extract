{
 "cells": [
  {
   "cell_type": "markdown",
   "metadata": {},
   "source": [
    "## PCA to visualize functional dependence between PIC and O\n",
    "\n",
    "In the context of behaviour science, there are three main types of input feautes, namely\n",
    "\n",
    "1. Population characteristics (P): example - Min. age, Mean age, education levels etc.\n",
    "2. Interventions (I): example - Goal setting, Planning, Rewards etc.\n",
    "3. Context of the study (C): example - Follow up period, etc.\n",
    "4. An Outcome of the study (O) indicating what percentage of people quit smoking.\n",
    "\n",
    "In order to figure out if there's a functional dependence between the output (O) and the inputs (PIC), i.e., whether\n",
    "$$\n",
    "O = \\phi(P, I, C),\n",
    "$$\n",
    "we apply PCA to reduce the dimensionality of the input space, and apply a threshold to binarize the outcome variable. "
   ]
  },
  {
   "cell_type": "code",
   "execution_count": null,
   "metadata": {},
   "outputs": [],
   "source": [
    "import pandas as pd \n",
    "import numpy as np\n",
    "import os\n",
    "import matplotlib.pyplot as plt\n",
    "from sklearn.decomposition import PCA\n",
    "from sklearn.preprocessing import StandardScaler\n",
    "from scipy.io import arff\n",
    "%matplotlib inline "
   ]
  },
  {
   "cell_type": "code",
   "execution_count": 103,
   "metadata": {},
   "outputs": [],
   "source": [
    "# A simplified version of the inputs with only the numeric features\n",
    "CSV_TRAIN_FILE = '../weka/train.3909808.arff.simple'\n",
    "data, meta = arff.loadarff(CSV_TRAIN_FILE)"
   ]
  },
  {
   "cell_type": "code",
   "execution_count": 136,
   "metadata": {},
   "outputs": [],
   "source": [
    "class DataWithLabel:\n",
    "    def __init__(self, X, Y):\n",
    "        self.X = X\n",
    "        self.Y = Y\n",
    "\n",
    "def makeData(data, thresh=15):\n",
    "    X = []\n",
    "    Y = []\n",
    "    for rcd in data:\n",
    "        x = list(rcd)\n",
    "        y = x[-1]\n",
    "        if y > thresh:\n",
    "            o = 1\n",
    "        else:\n",
    "            o = 0\n",
    "        Y.append(o)        \n",
    "        X.append(x[:-1])\n",
    "\n",
    "    return DataWithLabel(X, Y)\n",
    "\n",
    "# Do PCA after scaling\n",
    "def doPCA(X):\n",
    "    pca = PCA(n_components=2)\n",
    "    X = StandardScaler().fit_transform(X)\n",
    "\n",
    "    principalComponents = pca.fit_transform(X)\n",
    "    return principalComponents\n",
    "\n",
    "# Use the thresh parameter to control the output binarization\n",
    "XY = makeData(data, thresh=5)\n",
    "v = doPCA(XY.X)\n",
    "v_y = DataWithLabel(v, XY.Y)"
   ]
  },
  {
   "cell_type": "code",
   "execution_count": 137,
   "metadata": {},
   "outputs": [
    {
     "data": {
      "image/png": "[encoded data removed]",
      "text/plain": [
       "<Figure size 432x288 with 1 Axes>"
      ]
     },
     "metadata": {
      "needs_background": "light"
     },
     "output_type": "display_data"
    }
   ],
   "source": [
    "#Plot the points\n",
    "def plotMoG(XY, symbol, color):\n",
    "    i=0\n",
    "    for x in XY.X:\n",
    "        plt.plot (x[0], x[1], marker=symbol[XY.Y[i]], color=color[XY.Y[i]])\n",
    "        i=i+1\n",
    "\n",
    "plotMoG(v_y, ['.', 'x'], ['red', 'green'])"
   ]
  },
  {
   "cell_type": "code",
   "execution_count": null,
   "metadata": {},
   "outputs": [],
   "source": []
  }
 ],
 "metadata": {
  "kernelspec": {
   "display_name": "Python 3",
   "language": "python",
   "name": "python3"
  },
  "language_info": {
   "codemirror_mode": {
    "name": "ipython",
    "version": 3
   },
   "file_extension": ".py",
   "mimetype": "text/x-python",
   "name": "python",
   "nbconvert_exporter": "python",
   "pygments_lexer": "ipython3",
   "version": "3.7.3"
  }
 },
 "nbformat": 4,
 "nbformat_minor": 2
}
