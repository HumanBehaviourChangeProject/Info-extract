{
 "cells": [
  {
   "cell_type": "code",
   "execution_count": 25,
   "metadata": {},
   "outputs": [],
   "source": [
    "import sys\n",
    "sys.path.insert(0, \"ov-predict/src/\")"
   ]
  },
  {
   "cell_type": "code",
   "execution_count": 26,
   "metadata": {},
   "outputs": [],
   "source": [
    "from api.model_loader import init_model\n",
    "from api.model_loader import init_embedding\n",
    "from api.model_loader import predict_outcome_with_dynamic_vocabchange"
   ]
  },
  {
   "cell_type": "code",
   "execution_count": 27,
   "metadata": {},
   "outputs": [
    {
     "name": "stdout",
     "output_type": "stream",
     "text": [
      "converting words to ids...\n",
      "Collecting node names...\n",
      "Collected node names...\n",
      "Converting words to ids...\n",
      "Finished converting words to ids...\n",
      "vocab size = 38892\n",
      "Loading W2V data...\n",
      "skipping word M:6080688:When_Smokers_QuitThe_Health_Bene\n",
      "skipping word M:6080688:lea\n",
      "skipping word SO:6080714:quali\n",
      "skipping word R:6080719:Two_hundred_and_\n",
      "loaded word2vec for 38891 nodes\n",
      "5 words out of 38892 not found\n",
      "DEBUG: shape of embedding: (38892, 333)\n",
      "DEBUG: include_wordvecs = False\n",
      "DEBUG: During API call - emb matrix o/p dimension: 333\n",
      "DEBUG: During API call - emb matrix shape: (38892, 333)\n",
      "Model: \"sequential_3\"\n",
      "_________________________________________________________________\n",
      "Layer (type)                 Output Shape              Param #   \n",
      "=================================================================\n",
      "embedding_3 (Embedding)      (None, 50, 333)           12951036  \n",
      "_________________________________________________________________\n",
      "bidirectional_3 (Bidirection (None, 128)               203776    \n",
      "_________________________________________________________________\n",
      "output_vals (Dense)          (None, 1)                 129       \n",
      "=================================================================\n",
      "Total params: 13,154,941\n",
      "Trainable params: 203,905\n",
      "Non-trainable params: 12,951,036\n",
      "_________________________________________________________________\n",
      "Model: \"sequential_3\"\n",
      "_________________________________________________________________\n",
      "Layer (type)                 Output Shape              Param #   \n",
      "=================================================================\n",
      "embedding_3 (Embedding)      (None, 50, 333)           12951036  \n",
      "_________________________________________________________________\n",
      "bidirectional_3 (Bidirection (None, 128)               203776    \n",
      "_________________________________________________________________\n",
      "output_vals (Dense)          (None, 1)                 129       \n",
      "=================================================================\n",
      "Total params: 13,154,941\n",
      "Trainable params: 203,905\n",
      "Non-trainable params: 12,951,036\n",
      "_________________________________________________________________\n"
     ]
    }
   ],
   "source": [
    "#committed the merged file in git\n",
    "#EMBFILE=\"../../core/prediction/graphs/nodevecs/nodes_and_words.vec\"\n",
    "EMBFILE=\"../../core/prediction/graphs/nodevecs/ndvecs.cv.128-10-0.1-0.9-both-0-false.merged.vec\"\n",
    "SAVED_MODEL_FILE='ov-predict/saved_models/model.h5'\n",
    "NODEVEC_DIM=128\n",
    "PUBMED_DIM=200\n",
    "VAL_DIMENSIONS=5\n",
    "NUM_CLASSES = 0\n",
    "MAXLEN=50\n",
    "\n",
    "inpH = init_embedding(EMBFILE)\n",
    "trained_model = init_model(inpH, saved_model_wts_file=SAVED_MODEL_FILE)"
   ]
  },
  {
   "cell_type": "code",
   "execution_count": 28,
   "metadata": {},
   "outputs": [],
   "source": [
    "def outcome(data):\n",
    "    predicted_val = predict_outcome_with_dynamic_vocabchange(inpH, trained_model, data)\n",
    "    return predicted_val"
   ]
  },
  {
   "cell_type": "code",
   "execution_count": 41,
   "metadata": {},
   "outputs": [
    {
     "name": "stdout",
     "output_type": "stream",
     "text": [
      "Inp: C:5579096:65 I:3675717:1 I:3674258:1 I:3675611:1 O:4087166:collateral_contacts O:4087166:expired_air_carbon_monoxide O:4087191:12\n",
      "7.3 8.616499900817871\n",
      "Inp: C:5579096:65 I:3675717:1 I:3674258:1 I:3675611:1 O:4087166:collateral_contacts O:4087166:expired_air_carbon_monoxide O:4087191:24\n",
      "8.5 8.88176155090332\n",
      "Inp: C:5579096:65 I:3675717:1 I:3674258:1 I:3675611:1 O:4087166:collateral_contacts O:4087166:expired_air_carbon_monoxide O:4087191:52\n",
      "16.7 9.151809692382812\n",
      "Inp: C:5579096:65 I:3675611:1 I:4085489:1 O:4087166:collateral_contacts O:4087166:expired_air_carbon_monoxide O:4087191:12\n",
      "12.5 8.7247953414917\n",
      "Inp: C:5579096:65 I:3675611:1 I:4085489:1 O:4087166:collateral_contacts O:4087166:expired_air_carbon_monoxide O:4087191:24\n",
      "17.5 9.015816688537598\n",
      "Inp: C:5579096:65 I:3675611:1 I:4085489:1 O:4087166:collateral_contacts O:4087166:expired_air_carbon_monoxide O:4087191:52\n",
      "26.2 9.27437973022461\n"
     ]
    },
    {
     "data": {
      "image/png": "[encoded data removed]",
      "text/plain": [
       "<Figure size 432x288 with 1 Axes>"
      ]
     },
     "metadata": {
      "needs_background": "light"
     },
     "output_type": "display_data"
    },
    {
     "data": {
      "image/png": "[encoded data removed]",
      "text/plain": [
       "<Figure size 432x288 with 1 Axes>"
      ]
     },
     "metadata": {
      "needs_background": "light"
     },
     "output_type": "display_data"
    }
   ],
   "source": [
    "import numpy as np\n",
    "import matplotlib.pyplot as plt\n",
    "\n",
    "#We build a few test cases and store them in a dictionary keyed by the docname\n",
    "#values being a list of data instances corresponding to each arm\n",
    "TESTSET={\n",
    "    \"Hick_2015.pdf\": [[\"C:5579096:65 I:3675717:1 I:3674258:1 I:3675611:1 O:4087166:collateral_contacts O:4087166:expired_air_carbon_monoxide\",\n",
    "                       \"7.3:12 8.5:24 16.7:52\"],\n",
    "                      [\"C:5579096:65 I:3675611:1 I:4085489:1 O:4087166:collateral_contacts O:4087166:expired_air_carbon_monoxide\",\n",
    "                       \"12.5:12 17.5:24 26.2:52\"]]\n",
    "}\n",
    "\n",
    "ARMNAMES = ['Control', 'Primary']\n",
    "armId = 0\n",
    "\n",
    "for doc in TESTSET:\n",
    "    arms = TESTSET[doc]\n",
    "    \n",
    "    for data in arms:        \n",
    "        tp_list = []\n",
    "        refvalues_toplot = []\n",
    "        values_toplot = []\n",
    "        \n",
    "        inp = data[0]\n",
    "        ref_outcomes = data[1]\n",
    "        ref_outcomesList = ref_outcomes.split(' ')\n",
    "        for ref_o in ref_outcomesList:\n",
    "            tokens = ref_o.split(':')\n",
    "            tp = tokens[1]\n",
    "            ref_value = tokens[0]\n",
    "            inp_with_tp = inp + ' O:4087191:' + tp\n",
    "            print (\"Inp: {}\".format(inp_with_tp))\n",
    "            pvalue = outcome(inp_with_tp)\n",
    "            print('{} {}'.format(ref_value, pvalue[0]))\n",
    "            \n",
    "            tp_list.append(float(tp))\n",
    "            refvalues_toplot.append(float(ref_value))\n",
    "            values_toplot.append(float(pvalue[0]))\n",
    "    \n",
    "        x = np.asarray(tp_list)\n",
    "        y1 = np.asarray(refvalues_toplot)\n",
    "        y2 = np.asarray(values_toplot)\n",
    "\n",
    "        plt.figure()\n",
    "        plt.xlabel('time-point (weeks)')\n",
    "        plt.ylabel(ARMNAMES[armId] + ' values (g:ref, r:predicted)')\n",
    "        plt.plot(x, y1, 'g+', x, y2, 'rx')\n",
    "        \n",
    "        armId += 1\n",
    "    \n",
    "plt.show()            "
   ]
  },
  {
   "cell_type": "code",
   "execution_count": 31,
   "metadata": {},
   "outputs": [
    {
     "data": {
      "image/png": "[encoded data removed]",
      "text/plain": [
       "<Figure size 432x288 with 1 Axes>"
      ]
     },
     "metadata": {
      "needs_background": "light"
     },
     "output_type": "display_data"
    }
   ],
   "source": [
    "#Plot the numbers\n",
    "import numpy as np\n",
    "import matplotlib.pyplot as plt\n",
    "\n",
    "# evenly sampled time at 200ms intervals\n",
    "t = np.arange(0., 5., 0.2)\n",
    "\n",
    "# red dashes, blue squares and green triangles\n",
    "plt.plot(t, t, 'r--', t, t**2, 'bs', t, t**3, 'g^')\n",
    "plt.show()"
   ]
  },
  {
   "cell_type": "code",
   "execution_count": null,
   "metadata": {},
   "outputs": [],
   "source": []
  }
 ],
 "metadata": {
  "kernelspec": {
   "display_name": "Python 3",
   "language": "python",
   "name": "python3"
  },
  "language_info": {
   "codemirror_mode": {
    "name": "ipython",
    "version": 3
   },
   "file_extension": ".py",
   "mimetype": "text/x-python",
   "name": "python",
   "nbconvert_exporter": "python",
   "pygments_lexer": "ipython3",
   "version": "3.6.10"
  }
 },
 "nbformat": 4,
 "nbformat_minor": 4
}
